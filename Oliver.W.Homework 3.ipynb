{
  "nbformat": 4,
  "nbformat_minor": 0,
  "metadata": {
    "colab": {
      "name": "hw_3.ipynb",
      "provenance": [],
      "collapsed_sections": []
    },
    "kernelspec": {
      "name": "python3",
      "display_name": "Python 3"
    }
  },
  "cells": [
    {
      "cell_type": "markdown",
      "metadata": {
        "id": "iJZePjMEtTEf",
        "colab_type": "text"
      },
      "source": [
        "## Newton-Raphson for equations\n",
        "Find the solution for  \n",
        "\\begin{eqnarray}\n",
        "x_{1}^2+x_{1}x_{2}=10\\\\\n",
        "x_{2}+3x_{1}x_{2}^2=57\n",
        "\\end{eqnarray}"
      ]
    },
    {
      "cell_type": "code",
      "metadata": {
        "id": "R4-gVG3NvZF5",
        "colab_type": "code",
        "colab": {
          "base_uri": "https://localhost:8080/",
          "height": 265
        },
        "outputId": "dff5c42a-acd0-4ffd-fe2b-6d7d2ffa6dbd"
      },
      "source": [
        "###starting graph to determine first guess\n",
        "\n",
        "import numpy as np\n",
        "import matplotlib.pyplot as plt\n",
        "\n",
        "def f1(x1,x2):\n",
        "    return (x1**2 + x1*x2 - 10)\n",
        "\n",
        "def f2(x1,x2):\n",
        "    return (x2 + 3*x1*(x2**2) - 57)\n",
        "\n",
        "def F(x1,x2):\n",
        "    F = np.array([[f1(x1,x2)],\n",
        "                  [f2(x1,x2)]])\n",
        "    return(F)\n",
        "\n",
        "\n",
        "t = np.arange(0.0,5,0.01)\n",
        "\n",
        "plt.plot(t,f1(t,t))\n",
        "plt.plot(t,f2(t,t))\n",
        "\n",
        "plt.show()\n",
        "\n",
        "# looks like there is a solution next to x1 = x2 = 2.5"
      ],
      "execution_count": 159,
      "outputs": [
        {
          "output_type": "display_data",
          "data": {
            "image/png": "[encoded data removed]",
            "text/plain": [
              "<Figure size 432x288 with 1 Axes>"
            ]
          },
          "metadata": {
            "tags": []
          }
        }
      ]
    },
    {
      "cell_type": "code",
      "metadata": {
        "id": "tu8sAK_eRMrK",
        "colab_type": "code",
        "colab": {}
      },
      "source": [
        "###defining initial functions and putting them into an array\n",
        "\n",
        "import numpy as np\n",
        "\n",
        "def f1(x1,x2):\n",
        "    return (x1**2 + x1*x2 - 10)\n",
        "\n",
        "def f2(x1,x2):\n",
        "    return (x2 + 3*x1*(x2**2) - 57)\n",
        "\n",
        "def Function(x1,x2):\n",
        "    F = np.array([[f1(x1,x2)],\n",
        "                  [f2(x1,x2)]])\n",
        "    return(F)"
      ],
      "execution_count": 0,
      "outputs": []
    },
    {
      "cell_type": "code",
      "metadata": {
        "id": "uC5A3NBhRrH-",
        "colab_type": "code",
        "colab": {}
      },
      "source": [
        "### placing derivitives (which i did by hand) into an array\n",
        "def handdiff(x1,x2):\n",
        "\n",
        "    Jhand = np.array([[2*x1 + x2 , x1],\n",
        "                      [3 , 1+6*x1*x2]])\n",
        "    return(Jhand)\n",
        "\n",
        "\n",
        "### test function\n",
        "# a = np.linalg.solve(handdiff(1,2),Function(1,2))\n",
        "# print(a)\n",
        "# print(a.item(0))\n"
      ],
      "execution_count": 0,
      "outputs": []
    },
    {
      "cell_type": "code",
      "metadata": {
        "id": "mwHiHm7nSlt4",
        "colab_type": "code",
        "colab": {}
      },
      "source": [
        "### final newton-raphson definition for a system of 2 equations and 2 unknowns\n",
        "def newton_2x2(x1,x2,Nmax,eps):\n",
        "    for i in range(0,Nmax):\n",
        "        df = np.linalg.solve(handdiff(x1,x2),Function(x1,x2))\n",
        "        x1 = x1 - df.item(0)\n",
        "        x2 = x2 - df.item(1)\n",
        "        print(x1,x2)\n",
        "        if(abs(f1(x1,x2) <eps) and f2(x1,x2)) <eps:\n",
        "            print (\"roots are at\", x1 ,\"and\", x2, \"iterations\", i)\n",
        "            break\n",
        "    return 0\n"
      ],
      "execution_count": 0,
      "outputs": []
    },
    {
      "cell_type": "code",
      "metadata": {
        "id": "fE-V1NkGaZRL",
        "colab_type": "code",
        "colab": {
          "base_uri": "https://localhost:8080/",
          "height": 51
        },
        "outputId": "0543359c-d55b-4977-e30a-86e6cd09a801"
      },
      "source": [
        "###final solution\n",
        "\n",
        "\n",
        "eps = 1.0e-16\n",
        "Nmax = 100\n",
        "x1 = 2.5\n",
        "x2 = 2.5\n",
        "\n",
        "root = newton_2x2(x1,x2,Nmax,eps)\n",
        "\n",
        "### something feels off about this, although it does give a resonable answer, the number of iterations are always only 0 meaning it finds the answer on the first try then doesnt adjust."
      ],
      "execution_count": 163,
      "outputs": [
        {
          "output_type": "stream",
          "text": [
            "2.09 2.73\n",
            "roots are at 2.09 and 2.73 iterations 0\n"
          ],
          "name": "stdout"
        }
      ]
    },
    {
      "cell_type": "code",
      "metadata": {
        "id": "7xAepfho0KpF",
        "colab_type": "code",
        "colab": {}
      },
      "source": [
        "### derivitive taker that I never implemented into code\n",
        "\n",
        "# dx = 1.0e-6\n",
        "\n",
        "# def diff(f,x,dx): #central difference scheme\n",
        "#     return(f(x+dx/2)-f(x-dx/2))/dx\n",
        "\n",
        "# def jacobian(f1,f2,x1,x2):\n",
        "\n",
        "#     J = [[diff(f1,x1,dx) , diff(f1,x2,dx)]\n",
        "#          [diff(f2,x1,dx) , diff(f2,x2,dx)]]\n",
        "#     return(J)\n"
      ],
      "execution_count": 0,
      "outputs": []
    },
    {
      "cell_type": "code",
      "metadata": {
        "id": "WqxGujDpzAUQ",
        "colab_type": "code",
        "colab": {}
      },
      "source": [
        "# Homework: using Newton-Raphson method to solve above equation arrays\n",
        "# Hint: first you need to derive the partical derivative of the equation arrays. You can do it either \n",
        "# analytically by hand or numerically using method we learned in the last lecture."
      ],
      "execution_count": 0,
      "outputs": []
    }
  ]
}